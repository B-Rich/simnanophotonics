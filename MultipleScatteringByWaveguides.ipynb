{
 "cells": [
  {
   "cell_type": "markdown",
   "metadata": {},
   "source": [
    "# Multipolar expansion approach for solving dipole radiation problems in presence of a dielectric waveguide\n",
    "\n",
    "Following Jackson's *lassical Electrodynamics*  book (chap 16, 1975 edition) as well as Prasad & Guo's 1997 paper (Optics Communications 136(1997) 447-460), I am posting some of the main result here regarding the classical radiation problem with a square waveguide. \n",
    "I am using Green's function formalism to formulate the radiated electric field from a dipole. \n",
    "The total field is the sum of a series of multiple scattering fields.\n",
    "Normally, one difficulty to calculate the scattered field is to avoid the sigularities in the integrations.\n",
    "That is why we are considering to use the multipolar expansion technique to solve the problem.\n",
    "\n",
    "As a summary, the Green's function tensor in free space responding at $\\mathbf{r}$ from a dipole source at $\\mathbf{r}'$ is given by\n",
    "$$\\mathbf{G}_0(\\mathbf{r}-\\mathbf{r}')=\\frac{1}{4\\pi}\\left(\\mathbb{1}+\\frac{1}{k_0}\\nabla\\nabla \\right)\\frac{e^{ik_0|\\mathbf{r}-\\mathbf{r}'|}}{|\\mathbf{r}-\\mathbf{r}'|}.$$\n",
    "The total electric field at position $\\mathbf{r}$ can then be given by\n",
    "$$\n",
    "\\begin{align}\n",
    "\\mathbf{E}(\\mathbf{r})&=\\mathbf{E}_{\\mathrm{inc}}(\\mathbf{r})+ \\sum_{n=1}^\\infty \\left[k_0(\\eta^2-1) \\right]^n\\int d^3r_1\\int d^3r_2\\cdots\\int d^3r_n \\\\\n",
    "&\\quad \\quad \\quad \\mathbf{G}_0(\\mathbf{r}-\\mathbf{r}_1)\\cdot \\mathbf{G}_0(\\mathbf{r}_1-\\mathbf{r}_2)\\ldots\\cdot \\mathbf{G}_0(\\mathbf{r}_{n-1}-\\mathbf{r}_n)\\cdot \\mathbf{E}_{\\mathrm{inc}}(\\mathbf{r}_n)\\\\\n",
    "&=\\mathbf{E}_{\\mathrm{inc}}(\\mathbf{r})+ \\sum_{n=1}^\\infty\\mathbf{E}_{\\mathrm{sc}}^{(n)}(\\mathbf{r}),\n",
    "\\end{align}\n",
    "$$\n",
    "where $\\eta^2=\\varepsilon/\\varepsilon_0$."
   ]
  },
  {
   "cell_type": "markdown",
   "metadata": {},
   "source": [
    "Now, we use the spherical harmonics expansion that\n",
    "$$\\frac{e^{ik_0|\\mathbf{r}_i-\\mathbf{r}_j|}}{|\\mathbf{r}_i-\\mathbf{r}_j|}=4\\pi ik_0\\sum_{l=0}^\\infty\\sum_{m=-l}^l h_l^{(1)}(k_0r_{ij}^>)j_l(k_0r_{ij}^<)Y_{lm}(\\Omega_i)Y^*_{lm}(\\Omega_j),$$\n",
    "where $r_{ij}^>$($r_{ij}^<$) is the larger (smaller) of $r_i$ and $r_j$. "
   ]
  },
  {
   "cell_type": "code",
   "execution_count": null,
   "metadata": {
    "collapsed": true
   },
   "outputs": [],
   "source": []
  }
 ],
 "metadata": {
  "kernelspec": {
   "display_name": "Julia 0.5.1",
   "language": "julia",
   "name": "julia-0.5"
  },
  "language_info": {
   "file_extension": ".jl",
   "mimetype": "application/julia",
   "name": "julia",
   "version": "0.5.1"
  }
 },
 "nbformat": 4,
 "nbformat_minor": 0
}
